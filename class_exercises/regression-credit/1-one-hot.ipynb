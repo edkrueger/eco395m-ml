{
 "cells": [
  {
   "cell_type": "code",
   "execution_count": 1,
   "metadata": {},
   "outputs": [],
   "source": [
    "import pandas as pd\n",
    "\n",
    "from sklearn.model_selection import train_test_split\n",
    "\n",
    "from sklearn.compose import ColumnTransformer\n",
    "from sklearn.pipeline import make_pipeline\n",
    "from sklearn.preprocessing import OneHotEncoder\n",
    "from sklearn.linear_model import LinearRegression\n",
    "\n",
    "from sklearn.metrics import mean_squared_error\n",
    "\n",
    "import seaborn as sns"
   ]
  },
  {
   "cell_type": "code",
   "execution_count": 2,
   "metadata": {},
   "outputs": [],
   "source": [
    "NUM_VARS = [\"income\", \"limit\", \"rating\", \"cards\", \"age\", \"education\"]\n",
    "CAT_VARS = [\"gender\", \"student\", \"married\", \"ethnicity\"]\n",
    "# CAT_VARS = [\"gender\", \"student\", \"married\"]"
   ]
  },
  {
   "cell_type": "code",
   "execution_count": 3,
   "metadata": {},
   "outputs": [],
   "source": [
    "df = pd.read_csv(\"data/credit.csv\").rename(columns=lambda col: col.lower()).set_index(\"id\")\n",
    "X = df.drop(\"balance\", axis=\"columns\")\n",
    "y = df[\"balance\"]"
   ]
  },
  {
   "cell_type": "code",
   "execution_count": 4,
   "metadata": {},
   "outputs": [],
   "source": [
    "X_train, X_test, y_train, y_test = train_test_split(X, y, random_state=42, stratify=X[\"ethnicity\"])"
   ]
  },
  {
   "cell_type": "code",
   "execution_count": null,
   "metadata": {},
   "outputs": [],
   "source": [
    "model = make_pipeline(\n",
    "    ColumnTransformer(\n",
    "        [\n",
    "            (\"cat_vars\", OneHotEncoder(drop=\"first\"), CAT_VARS),\n",
    "            (\"num_vars\", \"passthrough\", NUM_VARS)\n",
    "        ],\n",
    "        remainder=\"drop\"\n",
    "    ),\n",
    "    LinearRegression()\n",
    ")"
   ]
  },
  {
   "cell_type": "code",
   "execution_count": 6,
   "metadata": {},
   "outputs": [
    {
     "name": "stdout",
     "output_type": "stream",
     "text": [
      "9305.436125351473\n",
      "10466.741067641298\n"
     ]
    }
   ],
   "source": [
    "model.fit(X_train, y_train)\n",
    "\n",
    "y_hat_train = model.predict(X_train)\n",
    "y_hat_test = model.predict(X_test)\n",
    "\n",
    "train_mse = mean_squared_error(y_train, y_hat_train)\n",
    "test_mse = mean_squared_error(y_test, y_hat_test)\n",
    "\n",
    "print(train_mse)\n",
    "print(test_mse)"
   ]
  },
  {
   "cell_type": "code",
   "execution_count": 7,
   "metadata": {},
   "outputs": [
    {
     "data": {
      "text/plain": [
       "cat_vars__gender_ Male                    3.991449\n",
       "cat_vars__gender_Female                  -3.991449\n",
       "cat_vars__student_No                   -213.407028\n",
       "cat_vars__student_Yes                   213.407028\n",
       "cat_vars__married_No                     -2.135975\n",
       "cat_vars__married_Yes                     2.135975\n",
       "cat_vars__ethnicity_African American    -10.518298\n",
       "cat_vars__ethnicity_Asian                 2.618467\n",
       "cat_vars__ethnicity_Caucasian             7.899831\n",
       "num_vars__income                         -7.753398\n",
       "num_vars__limit                           0.194914\n",
       "num_vars__rating                          1.085554\n",
       "num_vars__cards                          13.637364\n",
       "num_vars__age                            -0.461272\n",
       "num_vars__education                      -2.141923\n",
       "dtype: float64"
      ]
     },
     "execution_count": 7,
     "metadata": {},
     "output_type": "execute_result"
    }
   ],
   "source": [
    "var_names = model[0].get_feature_names_out()\n",
    "coef = model[-1].coef_\n",
    "\n",
    "pd.Series(index=var_names, data=coef)\n"
   ]
  },
  {
   "cell_type": "code",
   "execution_count": 8,
   "metadata": {},
   "outputs": [
    {
     "data": {
      "text/plain": [
       "<Axes: xlabel='ethnicity'>"
      ]
     },
     "execution_count": 8,
     "metadata": {},
     "output_type": "execute_result"
    },
    {
     "data": {
      "image/png": "[encoded data removed]",
      "text/plain": [
       "<Figure size 640x480 with 1 Axes>"
      ]
     },
     "metadata": {},
     "output_type": "display_data"
    }
   ],
   "source": [
    "sns.boxplot(x=X_test[\"ethnicity\"], y=y_hat_test)"
   ]
  },
  {
   "cell_type": "code",
   "execution_count": null,
   "metadata": {},
   "outputs": [],
   "source": []
  }
 ],
 "metadata": {
  "kernelspec": {
   "display_name": "3.11.1",
   "language": "python",
   "name": "python3"
  },
  "language_info": {
   "codemirror_mode": {
    "name": "ipython",
    "version": 3
   },
   "file_extension": ".py",
   "mimetype": "text/x-python",
   "name": "python",
   "nbconvert_exporter": "python",
   "pygments_lexer": "ipython3",
   "version": "3.11.1"
  }
 },
 "nbformat": 4,
 "nbformat_minor": 2
}
